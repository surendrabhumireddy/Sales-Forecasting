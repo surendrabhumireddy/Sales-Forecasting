{
 "cells": [
  {
   "attachments": {
    "image.png": {
     "image/png": "[encoded data removed]"
    }
   },
   "cell_type": "markdown",
   "id": "641888a7",
   "metadata": {},
   "source": [
    "![image.png](attachment:image.png)"
   ]
  },
  {
   "cell_type": "markdown",
   "id": "d1be1803",
   "metadata": {},
   "source": [
    "## Importing necessary libraries"
   ]
  },
  {
   "cell_type": "code",
   "execution_count": 1,
   "id": "283ee257",
   "metadata": {},
   "outputs": [],
   "source": [
    "import numpy as np\n",
    "import pandas as pd\n",
    "import matplotlib.pyplot as plt\n",
    "import seaborn as sns\n",
    "import warnings\n",
    "warnings.filterwarnings('ignore')\n",
    "%matplotlib inline\n",
    "sns.set()"
   ]
  },
  {
   "cell_type": "markdown",
   "id": "121cf73e",
   "metadata": {},
   "source": [
    "## Loading dataset"
   ]
  },
  {
   "cell_type": "code",
   "execution_count": 2,
   "id": "01247036",
   "metadata": {},
   "outputs": [],
   "source": [
    "sales_df=pd.read_csv('advertising.csv')"
   ]
  },
  {
   "cell_type": "code",
   "execution_count": 3,
   "id": "f047823c",
   "metadata": {},
   "outputs": [
    {
     "data": {
      "text/html": [
       "<div>\n",
       "<style scoped>\n",
       "    .dataframe tbody tr th:only-of-type {\n",
       "        vertical-align: middle;\n",
       "    }\n",
       "\n",
       "    .dataframe tbody tr th {\n",
       "        vertical-align: top;\n",
       "    }\n",
       "\n",
       "    .dataframe thead th {\n",
       "        text-align: right;\n",
       "    }\n",
       "</style>\n",
       "<table border=\"1\" class=\"dataframe\">\n",
       "  <thead>\n",
       "    <tr style=\"text-align: right;\">\n",
       "      <th></th>\n",
       "      <th>TV</th>\n",
       "      <th>Radio</th>\n",
       "      <th>Newspaper</th>\n",
       "      <th>Sales</th>\n",
       "    </tr>\n",
       "  </thead>\n",
       "  <tbody>\n",
       "    <tr>\n",
       "      <th>0</th>\n",
       "      <td>230.1</td>\n",
       "      <td>37.8</td>\n",
       "      <td>69.2</td>\n",
       "      <td>22.1</td>\n",
       "    </tr>\n",
       "    <tr>\n",
       "      <th>1</th>\n",
       "      <td>44.5</td>\n",
       "      <td>39.3</td>\n",
       "      <td>45.1</td>\n",
       "      <td>10.4</td>\n",
       "    </tr>\n",
       "    <tr>\n",
       "      <th>2</th>\n",
       "      <td>17.2</td>\n",
       "      <td>45.9</td>\n",
       "      <td>69.3</td>\n",
       "      <td>12.0</td>\n",
       "    </tr>\n",
       "    <tr>\n",
       "      <th>3</th>\n",
       "      <td>151.5</td>\n",
       "      <td>41.3</td>\n",
       "      <td>58.5</td>\n",
       "      <td>16.5</td>\n",
       "    </tr>\n",
       "    <tr>\n",
       "      <th>4</th>\n",
       "      <td>180.8</td>\n",
       "      <td>10.8</td>\n",
       "      <td>58.4</td>\n",
       "      <td>17.9</td>\n",
       "    </tr>\n",
       "    <tr>\n",
       "      <th>...</th>\n",
       "      <td>...</td>\n",
       "      <td>...</td>\n",
       "      <td>...</td>\n",
       "      <td>...</td>\n",
       "    </tr>\n",
       "    <tr>\n",
       "      <th>195</th>\n",
       "      <td>38.2</td>\n",
       "      <td>3.7</td>\n",
       "      <td>13.8</td>\n",
       "      <td>7.6</td>\n",
       "    </tr>\n",
       "    <tr>\n",
       "      <th>196</th>\n",
       "      <td>94.2</td>\n",
       "      <td>4.9</td>\n",
       "      <td>8.1</td>\n",
       "      <td>14.0</td>\n",
       "    </tr>\n",
       "    <tr>\n",
       "      <th>197</th>\n",
       "      <td>177.0</td>\n",
       "      <td>9.3</td>\n",
       "      <td>6.4</td>\n",
       "      <td>14.8</td>\n",
       "    </tr>\n",
       "    <tr>\n",
       "      <th>198</th>\n",
       "      <td>283.6</td>\n",
       "      <td>42.0</td>\n",
       "      <td>66.2</td>\n",
       "      <td>25.5</td>\n",
       "    </tr>\n",
       "    <tr>\n",
       "      <th>199</th>\n",
       "      <td>232.1</td>\n",
       "      <td>8.6</td>\n",
       "      <td>8.7</td>\n",
       "      <td>18.4</td>\n",
       "    </tr>\n",
       "  </tbody>\n",
       "</table>\n",
       "<p>200 rows × 4 columns</p>\n",
       "</div>"
      ],
      "text/plain": [
       "        TV  Radio  Newspaper  Sales\n",
       "0    230.1   37.8       69.2   22.1\n",
       "1     44.5   39.3       45.1   10.4\n",
       "2     17.2   45.9       69.3   12.0\n",
       "3    151.5   41.3       58.5   16.5\n",
       "4    180.8   10.8       58.4   17.9\n",
       "..     ...    ...        ...    ...\n",
       "195   38.2    3.7       13.8    7.6\n",
       "196   94.2    4.9        8.1   14.0\n",
       "197  177.0    9.3        6.4   14.8\n",
       "198  283.6   42.0       66.2   25.5\n",
       "199  232.1    8.6        8.7   18.4\n",
       "\n",
       "[200 rows x 4 columns]"
      ]
     },
     "execution_count": 3,
     "metadata": {},
     "output_type": "execute_result"
    }
   ],
   "source": [
    "sales_df"
   ]
  },
  {
   "cell_type": "markdown",
   "id": "12217c7c",
   "metadata": {},
   "source": [
    "## Information about dataset"
   ]
  },
  {
   "cell_type": "code",
   "execution_count": 4,
   "id": "bb47e4a5",
   "metadata": {},
   "outputs": [
    {
     "name": "stdout",
     "output_type": "stream",
     "text": [
      "<class 'pandas.core.frame.DataFrame'>\n",
      "RangeIndex: 200 entries, 0 to 199\n",
      "Data columns (total 4 columns):\n",
      " #   Column     Non-Null Count  Dtype  \n",
      "---  ------     --------------  -----  \n",
      " 0   TV         200 non-null    float64\n",
      " 1   Radio      200 non-null    float64\n",
      " 2   Newspaper  200 non-null    float64\n",
      " 3   Sales      200 non-null    float64\n",
      "dtypes: float64(4)\n",
      "memory usage: 6.4 KB\n"
     ]
    }
   ],
   "source": [
    "sales_df.info()"
   ]
  },
  {
   "cell_type": "markdown",
   "id": "93cfafa6",
   "metadata": {},
   "source": [
    "## Checking Null Values"
   ]
  },
  {
   "cell_type": "code",
   "execution_count": 5,
   "id": "c8be8511",
   "metadata": {},
   "outputs": [
    {
     "data": {
      "text/plain": [
       "TV           0.0\n",
       "Radio        0.0\n",
       "Newspaper    0.0\n",
       "Sales        0.0\n",
       "dtype: float64"
      ]
     },
     "execution_count": 5,
     "metadata": {},
     "output_type": "execute_result"
    }
   ],
   "source": [
    "sales_df.isnull().sum()/len(sales_df)*100"
   ]
  },
  {
   "cell_type": "markdown",
   "id": "710a2b74",
   "metadata": {},
   "source": [
    "- No null values"
   ]
  },
  {
   "cell_type": "markdown",
   "id": "6563cbae",
   "metadata": {},
   "source": [
    "## Checking outliers"
   ]
  },
  {
   "cell_type": "code",
   "execution_count": 6,
   "id": "6749f4c5",
   "metadata": {},
   "outputs": [
    {
     "data": {
      "image/png": "[encoded data removed]",
      "text/plain": [
       "<Figure size 640x480 with 1 Axes>"
      ]
     },
     "metadata": {},
     "output_type": "display_data"
    },
    {
     "data": {
      "image/png": "[encoded data removed]",
      "text/plain": [
       "<Figure size 640x480 with 1 Axes>"
      ]
     },
     "metadata": {},
     "output_type": "display_data"
    },
    {
     "data": {
      "image/png": "[encoded data removed]",
      "text/plain": [
       "<Figure size 640x480 with 1 Axes>"
      ]
     },
     "metadata": {},
     "output_type": "display_data"
    },
    {
     "data": {
      "image/png": "[encoded data removed]",
      "text/plain": [
       "<Figure size 640x480 with 1 Axes>"
      ]
     },
     "metadata": {},
     "output_type": "display_data"
    }
   ],
   "source": [
    "for i in sales_df.columns:\n",
    "    sns.boxplot(sales_df[i])\n",
    "    plt.show()"
   ]
  },
  {
   "cell_type": "markdown",
   "id": "723e4d18",
   "metadata": {},
   "source": [
    "- News paper have outliers but its needed for prediction of sales"
   ]
  },
  {
   "cell_type": "code",
   "execution_count": 7,
   "id": "90e7c7f8",
   "metadata": {},
   "outputs": [
    {
     "data": {
      "text/html": [
       "<div>\n",
       "<style scoped>\n",
       "    .dataframe tbody tr th:only-of-type {\n",
       "        vertical-align: middle;\n",
       "    }\n",
       "\n",
       "    .dataframe tbody tr th {\n",
       "        vertical-align: top;\n",
       "    }\n",
       "\n",
       "    .dataframe thead th {\n",
       "        text-align: right;\n",
       "    }\n",
       "</style>\n",
       "<table border=\"1\" class=\"dataframe\">\n",
       "  <thead>\n",
       "    <tr style=\"text-align: right;\">\n",
       "      <th></th>\n",
       "      <th>TV</th>\n",
       "      <th>Radio</th>\n",
       "      <th>Newspaper</th>\n",
       "      <th>Sales</th>\n",
       "    </tr>\n",
       "  </thead>\n",
       "  <tbody>\n",
       "    <tr>\n",
       "      <th>count</th>\n",
       "      <td>200.000000</td>\n",
       "      <td>200.000000</td>\n",
       "      <td>200.000000</td>\n",
       "      <td>200.000000</td>\n",
       "    </tr>\n",
       "    <tr>\n",
       "      <th>mean</th>\n",
       "      <td>147.042500</td>\n",
       "      <td>23.264000</td>\n",
       "      <td>30.554000</td>\n",
       "      <td>15.130500</td>\n",
       "    </tr>\n",
       "    <tr>\n",
       "      <th>std</th>\n",
       "      <td>85.854236</td>\n",
       "      <td>14.846809</td>\n",
       "      <td>21.778621</td>\n",
       "      <td>5.283892</td>\n",
       "    </tr>\n",
       "    <tr>\n",
       "      <th>min</th>\n",
       "      <td>0.700000</td>\n",
       "      <td>0.000000</td>\n",
       "      <td>0.300000</td>\n",
       "      <td>1.600000</td>\n",
       "    </tr>\n",
       "    <tr>\n",
       "      <th>25%</th>\n",
       "      <td>74.375000</td>\n",
       "      <td>9.975000</td>\n",
       "      <td>12.750000</td>\n",
       "      <td>11.000000</td>\n",
       "    </tr>\n",
       "    <tr>\n",
       "      <th>50%</th>\n",
       "      <td>149.750000</td>\n",
       "      <td>22.900000</td>\n",
       "      <td>25.750000</td>\n",
       "      <td>16.000000</td>\n",
       "    </tr>\n",
       "    <tr>\n",
       "      <th>75%</th>\n",
       "      <td>218.825000</td>\n",
       "      <td>36.525000</td>\n",
       "      <td>45.100000</td>\n",
       "      <td>19.050000</td>\n",
       "    </tr>\n",
       "    <tr>\n",
       "      <th>max</th>\n",
       "      <td>296.400000</td>\n",
       "      <td>49.600000</td>\n",
       "      <td>114.000000</td>\n",
       "      <td>27.000000</td>\n",
       "    </tr>\n",
       "  </tbody>\n",
       "</table>\n",
       "</div>"
      ],
      "text/plain": [
       "               TV       Radio   Newspaper       Sales\n",
       "count  200.000000  200.000000  200.000000  200.000000\n",
       "mean   147.042500   23.264000   30.554000   15.130500\n",
       "std     85.854236   14.846809   21.778621    5.283892\n",
       "min      0.700000    0.000000    0.300000    1.600000\n",
       "25%     74.375000    9.975000   12.750000   11.000000\n",
       "50%    149.750000   22.900000   25.750000   16.000000\n",
       "75%    218.825000   36.525000   45.100000   19.050000\n",
       "max    296.400000   49.600000  114.000000   27.000000"
      ]
     },
     "execution_count": 7,
     "metadata": {},
     "output_type": "execute_result"
    }
   ],
   "source": [
    "sales_df.describe()"
   ]
  },
  {
   "cell_type": "markdown",
   "id": "8f6394c6",
   "metadata": {},
   "source": [
    "## splitting data into idv and dv"
   ]
  },
  {
   "cell_type": "code",
   "execution_count": 8,
   "id": "1cc07c53",
   "metadata": {},
   "outputs": [],
   "source": [
    "x=sales_df.drop('Sales',axis=1)\n",
    "y=sales_df[['Sales']]"
   ]
  },
  {
   "cell_type": "markdown",
   "id": "bd9654a1",
   "metadata": {},
   "source": [
    "# Feature scaling"
   ]
  },
  {
   "cell_type": "code",
   "execution_count": 9,
   "id": "8c3d4119",
   "metadata": {},
   "outputs": [],
   "source": [
    "from sklearn.preprocessing import StandardScaler\n",
    "sc=StandardScaler()\n",
    "x_sc=sc.fit_transform(x)"
   ]
  },
  {
   "cell_type": "markdown",
   "id": "5feb3905",
   "metadata": {},
   "source": [
    "## HEATMAP"
   ]
  },
  {
   "cell_type": "code",
   "execution_count": 11,
   "id": "e4bea776",
   "metadata": {},
   "outputs": [
    {
     "data": {
      "image/png": "[encoded data removed]",
      "text/plain": [
       "<Figure size 2000x1500 with 2 Axes>"
      ]
     },
     "metadata": {},
     "output_type": "display_data"
    }
   ],
   "source": [
    "plt.figure(figsize=(20,15))\n",
    "corr = sales_df.corr()\n",
    "sns.heatmap(corr, annot=True, cmap='YlGnBu')\n",
    "plt.show()"
   ]
  },
  {
   "cell_type": "markdown",
   "id": "44afa962",
   "metadata": {},
   "source": [
    "## Splitting data into Train and Test"
   ]
  },
  {
   "cell_type": "code",
   "execution_count": 12,
   "id": "0f215b5a",
   "metadata": {},
   "outputs": [],
   "source": [
    "from sklearn.model_selection import train_test_split\n",
    "x_train, x_test, y_train, y_test = train_test_split(x_sc,y,test_size=0.25,random_state=101)"
   ]
  },
  {
   "cell_type": "markdown",
   "id": "0f553583",
   "metadata": {},
   "source": [
    "## Model building"
   ]
  },
  {
   "cell_type": "code",
   "execution_count": 13,
   "id": "9c1793f4",
   "metadata": {},
   "outputs": [],
   "source": [
    "from sklearn.linear_model import LinearRegression\n",
    "from sklearn.tree import DecisionTreeRegressor,plot_tree\n",
    "from sklearn.ensemble import BaggingRegressor\n",
    "from sklearn.ensemble import RandomForestRegressor\n",
    "from sklearn.ensemble import GradientBoostingRegressor\n",
    "from xgboost import XGBRegressor\n",
    "from sklearn.neighbors import KNeighborsRegressor\n",
    "from sklearn.svm import SVR\n",
    "from sklearn.model_selection import cross_val_score"
   ]
  },
  {
   "cell_type": "code",
   "execution_count": 14,
   "id": "cb609e4e",
   "metadata": {},
   "outputs": [],
   "source": [
    "#linear\n",
    "linear=LinearRegression()"
   ]
  },
  {
   "cell_type": "code",
   "execution_count": 15,
   "id": "e5d910e5",
   "metadata": {},
   "outputs": [],
   "source": [
    "#DecisionTree\n",
    "dtree=DecisionTreeRegressor()"
   ]
  },
  {
   "cell_type": "code",
   "execution_count": 16,
   "id": "34a70d85",
   "metadata": {},
   "outputs": [],
   "source": [
    "#Bagging\n",
    "bagg=BaggingRegressor()"
   ]
  },
  {
   "cell_type": "code",
   "execution_count": 17,
   "id": "8f6abbaf",
   "metadata": {},
   "outputs": [],
   "source": [
    "#Randomforest\n",
    "rf=RandomForestRegressor()"
   ]
  },
  {
   "cell_type": "code",
   "execution_count": 18,
   "id": "3a47ae04",
   "metadata": {},
   "outputs": [],
   "source": [
    "#Boosting\n",
    "gb=GradientBoostingRegressor()\n",
    "xgb=XGBRegressor()"
   ]
  },
  {
   "cell_type": "code",
   "execution_count": 19,
   "id": "148c18b9",
   "metadata": {},
   "outputs": [],
   "source": [
    "#K nearest neighbor\n",
    "knn=KNeighborsRegressor()"
   ]
  },
  {
   "cell_type": "code",
   "execution_count": 20,
   "id": "b27fe9e4",
   "metadata": {},
   "outputs": [],
   "source": [
    "#SVM\n",
    "svm=SVR()"
   ]
  },
  {
   "cell_type": "code",
   "execution_count": 22,
   "id": "bb2c135d",
   "metadata": {},
   "outputs": [],
   "source": [
    "list1=[(linear,'linear',1),(dtree,'decisiontree',2),(bagg,'bagging',3),(rf,'randomforest',4),(gb,'GradientBoost',5),(xgb,'XGBoost',6),(knn,'KNN',7),(svm,'SVM',8)]"
   ]
  },
  {
   "cell_type": "code",
   "execution_count": 23,
   "id": "f1106110",
   "metadata": {},
   "outputs": [
    {
     "name": "stdout",
     "output_type": "stream",
     "text": [
      "###########################################################################\n",
      "Cross validation of linear\n",
      "Train cvs: 0.8917209999642047\n",
      "Test cvs: 0.7374997551511149\n",
      "variance: 0.15422124481308985\n",
      "Overfitting linear\n",
      "###########################################################################\n",
      "Cross validation of decisiontree\n",
      "Train cvs: 0.875905060914054\n",
      "Test cvs: 0.6921956245598697\n",
      "variance: 0.18370943635418424\n",
      "Overfitting decisiontree\n",
      "###########################################################################\n",
      "Cross validation of bagging\n",
      "Train cvs: 0.9242126328310677\n",
      "Test cvs: 0.7845999769723072\n",
      "variance: 0.13961265585876048\n",
      "Overfitting bagging\n",
      "###########################################################################\n",
      "Cross validation of randomforest\n",
      "Train cvs: 0.9320752005647484\n",
      "Test cvs: 0.8190468531331749\n",
      "variance: 0.11302834743157342\n",
      "Overfitting randomforest\n",
      "###########################################################################\n",
      "Cross validation of GradientBoost\n",
      "Train cvs: 0.9364282902005101\n",
      "Test cvs: 0.8388358385563481\n",
      "variance: 0.09759245164416197\n",
      "###########################################################################\n",
      "Cross validation of XGBoost\n",
      "Train cvs: 0.9331555145296765\n",
      "Test cvs: 0.8636361332896701\n",
      "variance: 0.06951938124000634\n",
      "###########################################################################\n",
      "Cross validation of KNN\n",
      "Train cvs: 0.884896710735989\n",
      "Test cvs: 0.5360033661245525\n",
      "variance: 0.3488933446114365\n",
      "Overfitting KNN\n",
      "###########################################################################\n",
      "Cross validation of SVM\n",
      "Train cvs: 0.8092158754168169\n",
      "Test cvs: 0.5222971821372091\n",
      "variance: 0.28691869327960784\n",
      "Overfitting SVM\n"
     ]
    }
   ],
   "source": [
    "for model,model_name,i in list1:\n",
    "    model.fit(x_train,y_train)\n",
    "    y_pred_train=model.predict(x_train)\n",
    "    y_pred_test=model.predict(x_test)\n",
    "    print('#'*75)\n",
    "    print(f'Cross validation of {model_name}')\n",
    "    Train_cvs=cross_val_score(model,x_train,y_train,cv=10).mean()\n",
    "    Test_cvs=cross_val_score(model,x_test,y_test,cv=10).mean()\n",
    "    variance=abs(Train_cvs-Test_cvs)\n",
    "    print('Train cvs:',Train_cvs)\n",
    "    print('Test cvs:',Test_cvs)\n",
    "    print('variance:',variance)\n",
    "    if variance>0.1 :\n",
    "        print(f'Overfitting {model_name}')"
   ]
  },
  {
   "cell_type": "markdown",
   "id": "90a09a6b",
   "metadata": {},
   "source": [
    "## REGULARIZATION TECHNIQUE"
   ]
  },
  {
   "cell_type": "markdown",
   "id": "3eba7aa3",
   "metadata": {},
   "source": [
    "## LASSO "
   ]
  },
  {
   "cell_type": "code",
   "execution_count": 25,
   "id": "f8d8c6e0",
   "metadata": {},
   "outputs": [
    {
     "name": "stdout",
     "output_type": "stream",
     "text": [
      "Lasso coefficient: [ 4.60834434  1.51564649 -0.        ]\n",
      "\n",
      "y_pred_test_lasso: [13.85078889 21.27175825 12.63143279 15.5758106   8.98807273  7.45681886\n",
      " 21.8590286  18.77630693 12.51955756 20.03850544 10.9446117  15.80608448\n",
      " 17.09095944 20.53412418 18.82152074  9.82118911 19.28054208 10.06841278\n",
      "  8.65313357 20.9026268   7.88718265 18.05622264 24.68021696 23.20624476\n",
      "  9.44015772 15.84412663 23.40921472  9.21065661 14.70994667 10.39845572\n",
      "  9.64831686 20.03154024 12.50371666  7.11295602 17.71819212 10.15936357\n",
      " 10.67537386 10.34589263  9.1814182  13.46831735 12.16951685 12.49697707\n",
      " 11.46669906  8.00788075 11.61910779 10.59714862  8.12601551 18.61829149\n",
      " 15.60974846 20.17180428]\n",
      "\n",
      "y_pred_train_lasso: [11.19204183 16.76859704 20.88692984 12.58649741 15.79295571  6.18320532\n",
      " 23.62016281 11.10720179 21.11447245 16.50042495 17.0548038  24.65217854\n",
      "  9.09106256 19.32950977 17.1830671  22.01209015 17.040547   13.77303885\n",
      " 15.31588054 16.21027723 17.74207342  9.41735162 21.58793308  8.96845396\n",
      " 10.79979216 20.68778573 13.05086158 22.87701798  8.04404122 18.14510445\n",
      " 21.30273439 13.74542281  8.38294533 20.42230178 18.04945906 19.40456199\n",
      "  6.12056652 16.43572202 21.10353746 15.25175361  6.46792395 18.07210667\n",
      " 12.18455613 10.21194581 15.76667901 15.12168062 10.61545204 14.17639144\n",
      " 14.06944611 10.90492779 13.75525376 24.6935425  11.8055312  10.71143838\n",
      " 18.7900597  20.36456404  5.52127629 17.79304758 24.44002561 14.73232555\n",
      " 12.13664935 11.22636378 11.16052797 21.23280884 17.99592157 20.93446223\n",
      " 19.12530128 19.34290244 20.66477802 17.08577995 17.15451035 15.91021204\n",
      " 20.83789502 11.9875096  18.16245747 19.21788899 14.9405855  24.3345924\n",
      " 19.91853698 21.19494432  8.86581938 21.93187758  9.58668615 15.46363296\n",
      " 17.07471531 11.69560016 17.33970492 19.36262202 12.14622586  8.92590914\n",
      " 23.43295208 15.76628062 20.43069743 16.8742607  23.97058761 20.61254619\n",
      "  7.24645164 13.72940428 21.02586423 14.56382632 10.98740127 14.2801446\n",
      " 12.14735873 18.44254863 12.32191588  9.82719906 16.6467949  21.15872616\n",
      " 13.24940568  7.02001791 20.93707354 16.3183266  19.23870292  5.4531076\n",
      " 16.94462317 21.6447444  16.47430189  9.67063806  6.41896596  9.73994447\n",
      "  9.17623871 15.14775571  9.5948322   8.75625789 16.7658081  19.13249209\n",
      " 19.90032468 12.96935765 12.39859073 10.14430999 21.67054105 13.01030408\n",
      "  9.57277489  9.94344246 10.46495866 10.24808714 17.76515795  7.8589906\n",
      " 18.78158723  7.20966232  8.01112574 17.95437999 22.46118458 10.15716034\n",
      " 14.88737927 13.33113037 18.62085967 18.0989114  18.78485622 16.7967651 ]\n",
      "\n",
      "Accuracy of train value: 0.9028452008618757\n",
      "\n",
      "Accuracy of test value: 0.8978722337565639\n"
     ]
    }
   ],
   "source": [
    "from sklearn.linear_model import Lasso\n",
    "from sklearn.metrics import r2_score\n",
    "lasso=Lasso(alpha=0.1)\n",
    "lasso.fit(x_train,y_train)\n",
    "y_pred_train_lasso=lasso.predict(x_train)\n",
    "y_pred_test_lasso=lasso.predict(x_test)\n",
    "print('Lasso coefficient:',lasso.coef_)\n",
    "print()\n",
    "print('y_pred_test_lasso:',lasso.predict(x_test))\n",
    "print()\n",
    "print('y_pred_train_lasso:',lasso.predict(x_train))\n",
    "print()\n",
    "print('Accuracy of train value:',r2_score(y_train,y_pred_train_lasso))\n",
    "print()\n",
    "print('Accuracy of test value:',r2_score(y_test,y_pred_test_lasso))"
   ]
  },
  {
   "cell_type": "markdown",
   "id": "0adc550b",
   "metadata": {},
   "source": [
    "## RIDGE"
   ]
  },
  {
   "cell_type": "code",
   "execution_count": 26,
   "id": "52581c09",
   "metadata": {},
   "outputs": [
    {
     "name": "stdout",
     "output_type": "stream",
     "text": [
      "Ridge coefficient: [[ 4.70178398  1.63154623 -0.07628086]]\n",
      "\n",
      "y_pred_test_ridge: [[13.91603872]\n",
      " [21.49923876]\n",
      " [12.51286172]\n",
      " [15.64682124]\n",
      " [ 8.96484743]\n",
      " [ 7.28251011]\n",
      " [22.07282534]\n",
      " [18.913276  ]\n",
      " [12.41351559]\n",
      " [20.16344309]\n",
      " [11.01728601]\n",
      " [15.86749225]\n",
      " [17.07183782]\n",
      " [20.68467429]\n",
      " [18.80205673]\n",
      " [ 9.75714849]\n",
      " [19.28391932]\n",
      " [ 9.91541366]\n",
      " [ 8.49147198]\n",
      " [21.09168136]\n",
      " [ 7.7637887 ]\n",
      " [18.17905004]\n",
      " [24.97586509]\n",
      " [23.39105465]\n",
      " [ 9.34267554]\n",
      " [15.7225048 ]\n",
      " [23.69762737]\n",
      " [ 8.97586955]\n",
      " [14.66470183]\n",
      " [10.29070962]\n",
      " [ 9.47519008]\n",
      " [20.13278023]\n",
      " [12.41355268]\n",
      " [ 6.8352402 ]\n",
      " [17.79442377]\n",
      " [ 9.92942725]\n",
      " [10.52953066]\n",
      " [10.21618982]\n",
      " [ 9.08186091]\n",
      " [13.38799615]\n",
      " [11.88724091]\n",
      " [12.32982773]\n",
      " [11.30850599]\n",
      " [ 7.7788565 ]\n",
      " [11.59072859]\n",
      " [10.52643803]\n",
      " [ 8.09050885]\n",
      " [18.57223148]\n",
      " [15.44408593]\n",
      " [20.33016202]]\n",
      "\n",
      "y_pred_train_ridge: [[11.14740552]\n",
      " [16.72499255]\n",
      " [20.95416262]\n",
      " [12.5680646 ]\n",
      " [15.71447294]\n",
      " [ 6.0160571 ]\n",
      " [23.99420523]\n",
      " [11.20919271]\n",
      " [21.31734187]\n",
      " [16.51456224]\n",
      " [16.9365152 ]\n",
      " [24.80798769]\n",
      " [ 8.90387488]\n",
      " [19.4417969 ]\n",
      " [17.04212244]\n",
      " [22.07523211]\n",
      " [17.13483431]\n",
      " [13.86108704]\n",
      " [15.22132096]\n",
      " [16.34440341]\n",
      " [17.48439038]\n",
      " [ 9.27728744]\n",
      " [21.75338364]\n",
      " [ 8.7637174 ]\n",
      " [10.69798024]\n",
      " [20.86880135]\n",
      " [13.00903937]\n",
      " [23.12790083]\n",
      " [ 7.88415781]\n",
      " [18.19271128]\n",
      " [21.34547437]\n",
      " [13.66923545]\n",
      " [ 8.14219705]\n",
      " [20.68771425]\n",
      " [18.30511321]\n",
      " [19.47442668]\n",
      " [ 5.8180729 ]\n",
      " [16.39154476]\n",
      " [21.37086574]\n",
      " [15.25279603]\n",
      " [ 6.15260529]\n",
      " [18.04613745]\n",
      " [12.33284113]\n",
      " [10.02854061]\n",
      " [15.74656282]\n",
      " [15.08097414]\n",
      " [10.42305601]\n",
      " [14.23865765]\n",
      " [14.06763364]\n",
      " [10.7894465 ]\n",
      " [13.74251423]\n",
      " [24.91849848]\n",
      " [11.66885651]\n",
      " [10.58104906]\n",
      " [18.83702735]\n",
      " [20.55778823]\n",
      " [ 5.20642123]\n",
      " [17.89874129]\n",
      " [24.45082216]\n",
      " [14.61308287]\n",
      " [11.93243308]\n",
      " [11.22088787]\n",
      " [11.09017296]\n",
      " [21.42650952]\n",
      " [18.12273807]\n",
      " [21.17667209]\n",
      " [19.20155548]\n",
      " [19.26157696]\n",
      " [20.87316906]\n",
      " [17.02784278]\n",
      " [17.19521983]\n",
      " [15.88988734]\n",
      " [20.91492477]\n",
      " [11.93359359]\n",
      " [18.27240379]\n",
      " [19.51483263]\n",
      " [15.05974733]\n",
      " [24.49787479]\n",
      " [19.96867799]\n",
      " [21.43834654]\n",
      " [ 8.90355442]\n",
      " [22.21105787]\n",
      " [ 9.58223952]\n",
      " [15.56221836]\n",
      " [17.0407351 ]\n",
      " [11.69549411]\n",
      " [17.53772036]\n",
      " [19.38779974]\n",
      " [11.93059429]\n",
      " [ 8.71605758]\n",
      " [23.57992681]\n",
      " [15.70050048]\n",
      " [20.4309496 ]\n",
      " [16.92070944]\n",
      " [24.1492053 ]\n",
      " [20.70842759]\n",
      " [ 7.01313917]\n",
      " [13.66091572]\n",
      " [21.08737058]\n",
      " [14.51579568]\n",
      " [10.78295809]\n",
      " [14.30331558]\n",
      " [12.02537311]\n",
      " [18.48871038]\n",
      " [12.15541674]\n",
      " [ 9.71754155]\n",
      " [16.68117475]\n",
      " [21.28701556]\n",
      " [13.25082299]\n",
      " [ 6.81056165]\n",
      " [21.09782067]\n",
      " [16.38862477]\n",
      " [19.28285366]\n",
      " [ 5.23302593]\n",
      " [17.00865067]\n",
      " [22.01495778]\n",
      " [16.65278511]\n",
      " [ 9.44776837]\n",
      " [ 6.14641925]\n",
      " [ 9.67518274]\n",
      " [ 9.06911685]\n",
      " [15.18605792]\n",
      " [ 9.57217288]\n",
      " [ 8.59034189]\n",
      " [16.78073949]\n",
      " [19.31820557]\n",
      " [19.89462005]\n",
      " [12.81526179]\n",
      " [12.32700369]\n",
      " [10.20241062]\n",
      " [21.90779109]\n",
      " [13.06579746]\n",
      " [ 9.36572643]\n",
      " [ 9.84688341]\n",
      " [10.39040102]\n",
      " [10.13453005]\n",
      " [17.63491822]\n",
      " [ 7.6154845 ]\n",
      " [18.75665759]\n",
      " [ 6.98945302]\n",
      " [ 7.98339506]\n",
      " [17.99649662]\n",
      " [22.53396888]\n",
      " [ 9.96129173]\n",
      " [14.86159106]\n",
      " [13.40294967]\n",
      " [18.69929156]\n",
      " [18.02068277]\n",
      " [18.95050137]\n",
      " [16.79410106]]\n",
      "\n",
      "Accuracy of train value: 0.9037235603767914\n",
      "\n",
      "Accuracy of test value: 0.8951087104935767\n"
     ]
    }
   ],
   "source": [
    "from sklearn.linear_model import Ridge\n",
    "ridge=Ridge(alpha=0.3)\n",
    "ridge.fit(x_train,y_train)\n",
    "y_pred_train_ridge=ridge.predict(x_train)\n",
    "y_pred_test_ridge=ridge.predict(x_test)\n",
    "print('Ridge coefficient:',ridge.coef_)\n",
    "print()\n",
    "print('y_pred_test_ridge:',ridge.predict(x_test))\n",
    "print()\n",
    "print('y_pred_train_ridge:',ridge.predict(x_train))\n",
    "print()\n",
    "print('Accuracy of train value:',r2_score(y_train,y_pred_train_ridge))\n",
    "print()\n",
    "print('Accuracy of test value:',r2_score(y_test,y_pred_test_ridge))"
   ]
  },
  {
   "cell_type": "code",
   "execution_count": 27,
   "id": "0071af34",
   "metadata": {},
   "outputs": [],
   "source": [
    "list2=[(linear,'linear',1),(dtree,'decisiontree',2),(bagg,'bagging',3),(rf,'randomforest',4),(gb,'GradientBoost',5),(xgb,'XGBoost',6),(knn,'KNN',7),(svm,'SVM',8),(lasso,'lasso',9),(ridge,'ridge',10)]"
   ]
  },
  {
   "cell_type": "code",
   "execution_count": 28,
   "id": "251f5fc4",
   "metadata": {},
   "outputs": [],
   "source": [
    "accuracy_list=[]\n",
    "for model,model_name,i in list2:\n",
    "    model.fit(x_train,y_train)\n",
    "    y_pred_train=model.predict(x_train)\n",
    "    y_pred_test=model.predict(x_test)\n",
    "    test_acc=r2_score(y_test,y_pred_test)\n",
    "    accuracy_list.append(test_acc)"
   ]
  },
  {
   "cell_type": "code",
   "execution_count": 29,
   "id": "b60e1957",
   "metadata": {},
   "outputs": [],
   "source": [
    "model=['linear','decisiontree','bagging','randomforest','GradientBoost','XGBoost','KNN','SVM','Lasso','Ridge']"
   ]
  },
  {
   "cell_type": "code",
   "execution_count": 31,
   "id": "50d532e9",
   "metadata": {},
   "outputs": [],
   "source": [
    "metrics_df=pd.DataFrame({'model_name':model,'Accuracy':accuracy_list})"
   ]
  },
  {
   "cell_type": "code",
   "execution_count": 32,
   "id": "1430b686",
   "metadata": {},
   "outputs": [
    {
     "data": {
      "text/html": [
       "<div>\n",
       "<style scoped>\n",
       "    .dataframe tbody tr th:only-of-type {\n",
       "        vertical-align: middle;\n",
       "    }\n",
       "\n",
       "    .dataframe tbody tr th {\n",
       "        vertical-align: top;\n",
       "    }\n",
       "\n",
       "    .dataframe thead th {\n",
       "        text-align: right;\n",
       "    }\n",
       "</style>\n",
       "<table border=\"1\" class=\"dataframe\">\n",
       "  <thead>\n",
       "    <tr style=\"text-align: right;\">\n",
       "      <th></th>\n",
       "      <th>model_name</th>\n",
       "      <th>Accuracy</th>\n",
       "    </tr>\n",
       "  </thead>\n",
       "  <tbody>\n",
       "    <tr>\n",
       "      <th>0</th>\n",
       "      <td>linear</td>\n",
       "      <td>0.894901</td>\n",
       "    </tr>\n",
       "    <tr>\n",
       "      <th>1</th>\n",
       "      <td>decisiontree</td>\n",
       "      <td>0.942372</td>\n",
       "    </tr>\n",
       "    <tr>\n",
       "      <th>2</th>\n",
       "      <td>bagging</td>\n",
       "      <td>0.938158</td>\n",
       "    </tr>\n",
       "    <tr>\n",
       "      <th>3</th>\n",
       "      <td>randomforest</td>\n",
       "      <td>0.953522</td>\n",
       "    </tr>\n",
       "    <tr>\n",
       "      <th>4</th>\n",
       "      <td>GradientBoost</td>\n",
       "      <td>0.940458</td>\n",
       "    </tr>\n",
       "    <tr>\n",
       "      <th>5</th>\n",
       "      <td>XGBoost</td>\n",
       "      <td>0.943435</td>\n",
       "    </tr>\n",
       "    <tr>\n",
       "      <th>6</th>\n",
       "      <td>KNN</td>\n",
       "      <td>0.900521</td>\n",
       "    </tr>\n",
       "    <tr>\n",
       "      <th>7</th>\n",
       "      <td>SVM</td>\n",
       "      <td>0.864621</td>\n",
       "    </tr>\n",
       "    <tr>\n",
       "      <th>8</th>\n",
       "      <td>Lasso</td>\n",
       "      <td>0.897872</td>\n",
       "    </tr>\n",
       "    <tr>\n",
       "      <th>9</th>\n",
       "      <td>Ridge</td>\n",
       "      <td>0.895109</td>\n",
       "    </tr>\n",
       "  </tbody>\n",
       "</table>\n",
       "</div>"
      ],
      "text/plain": [
       "      model_name  Accuracy\n",
       "0         linear  0.894901\n",
       "1   decisiontree  0.942372\n",
       "2        bagging  0.938158\n",
       "3   randomforest  0.953522\n",
       "4  GradientBoost  0.940458\n",
       "5        XGBoost  0.943435\n",
       "6            KNN  0.900521\n",
       "7            SVM  0.864621\n",
       "8          Lasso  0.897872\n",
       "9          Ridge  0.895109"
      ]
     },
     "execution_count": 32,
     "metadata": {},
     "output_type": "execute_result"
    }
   ],
   "source": [
    "metrics_df"
   ]
  },
  {
   "cell_type": "markdown",
   "id": "048357c6",
   "metadata": {},
   "source": [
    "## Summary"
   ]
  },
  {
   "cell_type": "markdown",
   "id": "632ec3dd",
   "metadata": {},
   "source": [
    "### We can observe that all models predicted and gave best accuracy.\n",
    "### BEST MODEL:RandomForest"
   ]
  },
  {
   "cell_type": "code",
   "execution_count": null,
   "id": "50be7e78",
   "metadata": {},
   "outputs": [],
   "source": []
  }
 ],
 "metadata": {
  "kernelspec": {
   "display_name": "Python 3 (ipykernel)",
   "language": "python",
   "name": "python3"
  },
  "language_info": {
   "codemirror_mode": {
    "name": "ipython",
    "version": 3
   },
   "file_extension": ".py",
   "mimetype": "text/x-python",
   "name": "python",
   "nbconvert_exporter": "python",
   "pygments_lexer": "ipython3",
   "version": "3.9.13"
  }
 },
 "nbformat": 4,
 "nbformat_minor": 5
}
